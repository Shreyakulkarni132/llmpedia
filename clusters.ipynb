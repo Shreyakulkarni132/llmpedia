{
 "cells": [
  {
   "cell_type": "markdown",
   "source": [
    "# Cluster LLM Papers\n",
    "Using BERTopic."
   ],
   "metadata": {
    "collapsed": false
   }
  },
  {
   "cell_type": "code",
   "execution_count": 329,
   "outputs": [
    {
     "name": "stderr",
     "output_type": "stream",
     "text": [
      "[nltk_data] Downloading package wordnet to\n",
      "[nltk_data]     /Users/manuelrueda/nltk_data...\n",
      "[nltk_data]   Package wordnet is already up-to-date!\n",
      "[nltk_data] Downloading package stopwords to\n",
      "[nltk_data]     /Users/manuelrueda/nltk_data...\n",
      "[nltk_data]   Package stopwords is already up-to-date!\n"
     ]
    },
    {
     "data": {
      "text/plain": "True"
     },
     "execution_count": 329,
     "metadata": {},
     "output_type": "execute_result"
    }
   ],
   "source": [
    "import os\n",
    "\n",
    "import pandas as pd\n",
    "import plotly.express as px\n",
    "import plotly.io as pio\n",
    "from umap import UMAP\n",
    "from bertopic import BERTopic\n",
    "from sentence_transformers import SentenceTransformer\n",
    "from sklearn.feature_extraction.text import CountVectorizer\n",
    "from bertopic.representation import OpenAI, MaximalMarginalRelevance\n",
    "from hdbscan import HDBSCAN\n",
    "from nltk.stem import WordNetLemmatizer\n",
    "from nltk.corpus import stopwords\n",
    "import nltk\n",
    "import re\n",
    "import openai\n",
    "from dotenv import load_dotenv\n",
    "\n",
    "# Download necessary NLTK data\n",
    "nltk.download('wordnet')\n",
    "nltk.download('stopwords')\n",
    "lemmatizer = WordNetLemmatizer()\n",
    "stop_words = list(set(stopwords.words('english')))\n",
    "\n",
    "pio.renderers.default = \"browser\"\n",
    "load_dotenv()"
   ],
   "metadata": {
    "collapsed": false,
    "ExecuteTime": {
     "end_time": "2023-07-30T04:23:31.387923Z",
     "start_time": "2023-07-30T04:23:31.149574Z"
    }
   }
  },
  {
   "cell_type": "code",
   "execution_count": 330,
   "outputs": [
    {
     "data": {
      "text/plain": "                             Published  \\\n2023_07_27_simon_001.json   2023-07-27   \n2023_07_26_fabian_001.json  2023-07-26   \n2023_07_25_sungmin_001.json 2023-07-25   \n2023_07_24_jindong_001.json 2023-07-24   \n2023_07_19_jiayu_001.json   2023-07-19   \n\n                                                                         Title  \\\n2023_07_27_simon_001.json    ThoughtSource: A central hub for large languag...   \n2023_07_26_fabian_001.json   Educational data augmentation in physics educa...   \n2023_07_25_sungmin_001.json  Large Language Models are Few-shot Testers: Ex...   \n2023_07_24_jindong_001.json  A Systematic Survey of Prompt Engineering on V...   \n2023_07_19_jiayu_001.json    LongNet: Scaling Transformers to 1,000,000,000...   \n\n                                                                       Authors  \\\n2023_07_27_simon_001.json    Simon Ott, Konstantin Hebenstreit, Valentin Li...   \n2023_07_26_fabian_001.json   Fabian Kieser, Peter Wulff, Jochen Kuhn, Stefa...   \n2023_07_25_sungmin_001.json                Sungmin Kang, Juyeon Yoon, Shin Yoo   \n2023_07_24_jindong_001.json  Jindong Gu, Zhen Han, Shuo Chen, Ahmad Beirami...   \n2023_07_19_jiayu_001.json    Jiayu Ding, Shuming Ma, Li Dong, Xingxing Zhan...   \n\n                                                                       Summary  \\\n2023_07_27_simon_001.json    Large language models (LLMs) such as GPT-4 hav...   \n2023_07_26_fabian_001.json   Generative AI technologies such as large langu...   \n2023_07_25_sungmin_001.json  Many automated test generation techniques have...   \n2023_07_24_jindong_001.json  Prompt engineering is a technique that involve...   \n2023_07_19_jiayu_001.json    Scaling sequence length has become a critical ...   \n\n                                                             main_contribution  \\\n2023_07_27_simon_001.json    {'headline': 'ThoughtSource: A Meta-Dataset an...   \n2023_07_26_fabian_001.json   {'headline': 'ChatGPT can generate synthetic d...   \n2023_07_25_sungmin_001.json  {'headline': 'LIBRO: A Framework for Automatin...   \n2023_07_24_jindong_001.json  {'headline': 'Comprehensive Survey of Prompt E...   \n2023_07_19_jiayu_001.json    {'headline': 'LongNet: A Transformer variant f...   \n\n                                                                     takeaways  \\\n2023_07_27_simon_001.json    {'headline': 'ThoughtSource Enhances LLM Reaso...   \n2023_07_26_fabian_001.json   {'headline': 'ChatGPT can be used to generate ...   \n2023_07_25_sungmin_001.json  {'headline': 'LIBRO Framework Enhances Develop...   \n2023_07_24_jindong_001.json  {'headline': 'Prompt Engineering: A Versatile ...   \n2023_07_19_jiayu_001.json    {'headline': 'LongNet enables efficient modeli...   \n\n                                  category  \\\n2023_07_27_simon_001.json         TRAINING   \n2023_07_26_fabian_001.json       USE CASES   \n2023_07_25_sungmin_001.json      USE CASES   \n2023_07_24_jindong_001.json      PROMPTING   \n2023_07_19_jiayu_001.json    ARCHITECTURES   \n\n                                                              novelty_analysis  \\\n2023_07_27_simon_001.json    ThoughtSource represents a novel contribution ...   \n2023_07_26_fabian_001.json   The paper presents a novel application of larg...   \n2023_07_25_sungmin_001.json  The paper presents a novel approach to automat...   \n2023_07_24_jindong_001.json  The paper provides a systematic survey of prom...   \n2023_07_19_jiayu_001.json    The introduction of LongNet and the concept of...   \n\n                            novelty_score  \\\n2023_07_27_simon_001.json               3   \n2023_07_26_fabian_001.json              3   \n2023_07_25_sungmin_001.json             3   \n2023_07_24_jindong_001.json             2   \n2023_07_19_jiayu_001.json               3   \n\n                                                            technical_analysis  \\\n2023_07_27_simon_001.json    The paper is somewhat technical, as it discuss...   \n2023_07_26_fabian_001.json   The paper is not overly technical. It focuses ...   \n2023_07_25_sungmin_001.json  The paper is somewhat technical, as it delves ...   \n2023_07_24_jindong_001.json  The paper is somewhat technical as it requires...   \n2023_07_19_jiayu_001.json    The paper is highly technical, delving into th...   \n\n                            technical_score  \\\n2023_07_27_simon_001.json                 2   \n2023_07_26_fabian_001.json                1   \n2023_07_25_sungmin_001.json               2   \n2023_07_24_jindong_001.json               2   \n2023_07_19_jiayu_001.json                 3   \n\n                                                            enjoyable_analysis  \\\n2023_07_27_simon_001.json    The paper is well-written and organized, prese...   \n2023_07_26_fabian_001.json   The paper is well-written and presents a novel...   \n2023_07_25_sungmin_001.json  The paper is well-organized and presents a nov...   \n2023_07_24_jindong_001.json  The paper is well-structured and provides a co...   \n2023_07_19_jiayu_001.json    The paper is well-structured and presents a no...   \n\n                            enjoyable_score  \n2023_07_27_simon_001.json                 3  \n2023_07_26_fabian_001.json                3  \n2023_07_25_sungmin_001.json               3  \n2023_07_24_jindong_001.json               2  \n2023_07_19_jiayu_001.json                 2  ",
      "text/html": "<div>\n<style scoped>\n    .dataframe tbody tr th:only-of-type {\n        vertical-align: middle;\n    }\n\n    .dataframe tbody tr th {\n        vertical-align: top;\n    }\n\n    .dataframe thead th {\n        text-align: right;\n    }\n</style>\n<table border=\"1\" class=\"dataframe\">\n  <thead>\n    <tr style=\"text-align: right;\">\n      <th></th>\n      <th>Published</th>\n      <th>Title</th>\n      <th>Authors</th>\n      <th>Summary</th>\n      <th>main_contribution</th>\n      <th>takeaways</th>\n      <th>category</th>\n      <th>novelty_analysis</th>\n      <th>novelty_score</th>\n      <th>technical_analysis</th>\n      <th>technical_score</th>\n      <th>enjoyable_analysis</th>\n      <th>enjoyable_score</th>\n    </tr>\n  </thead>\n  <tbody>\n    <tr>\n      <th>2023_07_27_simon_001.json</th>\n      <td>2023-07-27</td>\n      <td>ThoughtSource: A central hub for large languag...</td>\n      <td>Simon Ott, Konstantin Hebenstreit, Valentin Li...</td>\n      <td>Large language models (LLMs) such as GPT-4 hav...</td>\n      <td>{'headline': 'ThoughtSource: A Meta-Dataset an...</td>\n      <td>{'headline': 'ThoughtSource Enhances LLM Reaso...</td>\n      <td>TRAINING</td>\n      <td>ThoughtSource represents a novel contribution ...</td>\n      <td>3</td>\n      <td>The paper is somewhat technical, as it discuss...</td>\n      <td>2</td>\n      <td>The paper is well-written and organized, prese...</td>\n      <td>3</td>\n    </tr>\n    <tr>\n      <th>2023_07_26_fabian_001.json</th>\n      <td>2023-07-26</td>\n      <td>Educational data augmentation in physics educa...</td>\n      <td>Fabian Kieser, Peter Wulff, Jochen Kuhn, Stefa...</td>\n      <td>Generative AI technologies such as large langu...</td>\n      <td>{'headline': 'ChatGPT can generate synthetic d...</td>\n      <td>{'headline': 'ChatGPT can be used to generate ...</td>\n      <td>USE CASES</td>\n      <td>The paper presents a novel application of larg...</td>\n      <td>3</td>\n      <td>The paper is not overly technical. It focuses ...</td>\n      <td>1</td>\n      <td>The paper is well-written and presents a novel...</td>\n      <td>3</td>\n    </tr>\n    <tr>\n      <th>2023_07_25_sungmin_001.json</th>\n      <td>2023-07-25</td>\n      <td>Large Language Models are Few-shot Testers: Ex...</td>\n      <td>Sungmin Kang, Juyeon Yoon, Shin Yoo</td>\n      <td>Many automated test generation techniques have...</td>\n      <td>{'headline': 'LIBRO: A Framework for Automatin...</td>\n      <td>{'headline': 'LIBRO Framework Enhances Develop...</td>\n      <td>USE CASES</td>\n      <td>The paper presents a novel approach to automat...</td>\n      <td>3</td>\n      <td>The paper is somewhat technical, as it delves ...</td>\n      <td>2</td>\n      <td>The paper is well-organized and presents a nov...</td>\n      <td>3</td>\n    </tr>\n    <tr>\n      <th>2023_07_24_jindong_001.json</th>\n      <td>2023-07-24</td>\n      <td>A Systematic Survey of Prompt Engineering on V...</td>\n      <td>Jindong Gu, Zhen Han, Shuo Chen, Ahmad Beirami...</td>\n      <td>Prompt engineering is a technique that involve...</td>\n      <td>{'headline': 'Comprehensive Survey of Prompt E...</td>\n      <td>{'headline': 'Prompt Engineering: A Versatile ...</td>\n      <td>PROMPTING</td>\n      <td>The paper provides a systematic survey of prom...</td>\n      <td>2</td>\n      <td>The paper is somewhat technical as it requires...</td>\n      <td>2</td>\n      <td>The paper is well-structured and provides a co...</td>\n      <td>2</td>\n    </tr>\n    <tr>\n      <th>2023_07_19_jiayu_001.json</th>\n      <td>2023-07-19</td>\n      <td>LongNet: Scaling Transformers to 1,000,000,000...</td>\n      <td>Jiayu Ding, Shuming Ma, Li Dong, Xingxing Zhan...</td>\n      <td>Scaling sequence length has become a critical ...</td>\n      <td>{'headline': 'LongNet: A Transformer variant f...</td>\n      <td>{'headline': 'LongNet enables efficient modeli...</td>\n      <td>ARCHITECTURES</td>\n      <td>The introduction of LongNet and the concept of...</td>\n      <td>3</td>\n      <td>The paper is highly technical, delving into th...</td>\n      <td>3</td>\n      <td>The paper is well-structured and presents a no...</td>\n      <td>2</td>\n    </tr>\n  </tbody>\n</table>\n</div>"
     },
     "execution_count": 330,
     "metadata": {},
     "output_type": "execute_result"
    }
   ],
   "source": [
    "papers_df = pd.read_pickle('papers_df.pkl')\n",
    "\n",
    "content_cols = [\"Summary\", \"main_contribution\", \"takeaways\"]\n",
    "papers_df = papers_df.dropna(subset=[\"Title\"] + content_cols)\n",
    "papers_df.drop_duplicates(subset=[\"Title\"], inplace=True)\n",
    "\n",
    "papers_dict = papers_df.set_index(\"Title\")[content_cols].apply(lambda x: '\\n'.join(x.astype(str)), axis=1).to_dict()\n",
    "papers_df.head()"
   ],
   "metadata": {
    "collapsed": false,
    "ExecuteTime": {
     "end_time": "2023-07-30T04:23:32.076300Z",
     "start_time": "2023-07-30T04:23:32.049231Z"
    }
   }
  },
  {
   "cell_type": "code",
   "execution_count": 331,
   "outputs": [
    {
     "name": "stdout",
     "output_type": "stream",
     "text": [
      "141 141\n"
     ]
    },
    {
     "data": {
      "text/plain": "Batches:   0%|          | 0/5 [00:00<?, ?it/s]",
      "application/vnd.jupyter.widget-view+json": {
       "version_major": 2,
       "version_minor": 0,
       "model_id": "646cf7d98e564c0787c29f2f156ace5a"
      }
     },
     "metadata": {},
     "output_type": "display_data"
    }
   ],
   "source": [
    "## Pre-calculate embeddings.\n",
    "titles = papers_df['Title'].tolist()\n",
    "assert titles == list(papers_dict.keys())\n",
    "\n",
    "all_content = list(papers_dict.values())\n",
    "print(len(all_content), len(titles))\n",
    "embedding_model = SentenceTransformer(\"all-MiniLM-L6-v2\")\n",
    "embeddings = embedding_model.encode(all_content, show_progress_bar=True)"
   ],
   "metadata": {
    "collapsed": false,
    "ExecuteTime": {
     "end_time": "2023-07-30T04:23:36.557804Z",
     "start_time": "2023-07-30T04:23:33.552508Z"
    }
   }
  },
  {
   "cell_type": "code",
   "execution_count": 332,
   "outputs": [],
   "source": [
    "def process_text(text):\n",
    "    # Lowercase the text\n",
    "    text = text.lower()\n",
    "    text = re.sub(r'\\W', ' ', text)\n",
    "    text = ' '.join([lemmatizer.lemmatize(word) for word in text.split() if word not in stop_words])\n",
    "    return text"
   ],
   "metadata": {
    "collapsed": false,
    "ExecuteTime": {
     "end_time": "2023-07-30T04:23:40.801472Z",
     "start_time": "2023-07-30T04:23:40.793717Z"
    }
   }
  },
  {
   "cell_type": "code",
   "execution_count": 333,
   "outputs": [],
   "source": [
    "## Utility objkts.\n",
    "umap_model = UMAP(n_neighbors=5, n_components=7, min_dist=0.0, metric='cosine', random_state=42)\n",
    "hdbscan_model = HDBSCAN(min_cluster_size=5, metric='euclidean', cluster_selection_method='eom', prediction_data=True)\n",
    "vectorizer_model = CountVectorizer(stop_words=stop_words, ngram_range=(2, 3), min_df=1, max_df=0.8, preprocessor=process_text)\n",
    "mmr_model = MaximalMarginalRelevance(diversity=.5)"
   ],
   "metadata": {
    "collapsed": false,
    "ExecuteTime": {
     "end_time": "2023-07-30T04:23:42.033009Z",
     "start_time": "2023-07-30T04:23:42.028656Z"
    }
   }
  },
  {
   "cell_type": "code",
   "execution_count": 342,
   "outputs": [],
   "source": [
    "##OAI representation.\n",
    "openai.api_key = os.environ[\"OPENAI_API_KEY\"]\n",
    "prompt = \"\"\"\n",
    "I have a topic that contains the following Large Language Model related documents:\n",
    "[DOCUMENTS]\n",
    "The topic is described by the following keywords: [KEYWORDS]\n",
    "\n",
    "Based on the information above, extract a short but highly descriptive topic label of at most 5 words. Do not use \"Large Language Model\" in your description. Make sure it is in the following format:\n",
    "topic: <topic label>\n",
    "\"\"\"\n",
    "openai_model = OpenAI(model=\"gpt-4\", exponential_backoff=True, chat=True, prompt=prompt, nr_docs=8)"
   ],
   "metadata": {
    "collapsed": false,
    "ExecuteTime": {
     "end_time": "2023-07-30T04:26:56.614753Z",
     "start_time": "2023-07-30T04:26:56.611357Z"
    }
   }
  },
  {
   "cell_type": "code",
   "execution_count": 343,
   "outputs": [
    {
     "name": "stderr",
     "output_type": "stream",
     "text": [
      "2023-07-29 21:26:58,615 - BERTopic - Reduced dimensionality\n",
      "2023-07-29 21:26:58,619 - BERTopic - Clustered reduced embeddings\n"
     ]
    }
   ],
   "source": [
    "topic_model = BERTopic(\n",
    "  embedding_model=embedding_model,\n",
    "  umap_model=umap_model,\n",
    "  hdbscan_model=hdbscan_model,\n",
    "  vectorizer_model=vectorizer_model,\n",
    "  representation_model=[mmr_model, openai_model],\n",
    "  top_n_words=10,\n",
    "  verbose=True\n",
    ")\n",
    "\n",
    "topics, probs = topic_model.fit_transform(all_content, embeddings)\n",
    "reduced_embeddings = UMAP(n_neighbors=10, n_components=2, min_dist=0.0, metric='cosine', random_state=42).fit_transform(embeddings)\n",
    "reduced_embeddings = (reduced_embeddings - reduced_embeddings.mean(axis=0)) / reduced_embeddings.std(axis=0)"
   ],
   "metadata": {
    "collapsed": false,
    "ExecuteTime": {
     "end_time": "2023-07-30T04:27:10.223095Z",
     "start_time": "2023-07-30T04:26:58.221664Z"
    }
   }
  },
  {
   "cell_type": "code",
   "execution_count": 344,
   "outputs": [
    {
     "data": {
      "text/plain": "   Topic  Count                                              Name  \\\n0     -1     29        -1_Advanced AI Applications and Techniques   \n1      0     27              0_CoT in Enhancing Complex Reasoning   \n2      1     26  1_Multimodal Learning and Fine-Tuning Techniques   \n3      2     14  2_AI-Assisted Reinforcement Learning Exploration   \n4      3     12                      3_Human-like Reasoning in AI   \n5      4     10         4_ChatGPT Applications and Text Detection   \n6      5      9            5_Code Synthesis and Automated Testing   \n7      6      8   6_Enhancing Reliability and Consistency in LLMs   \n8      7      6          7_Advanced NLP Applications & Challenges   \n\n                                     Representation  \\\n0         [Advanced AI Applications and Techniques]   \n1              [CoT in Enhancing Complex Reasoning]   \n2  [Multimodal Learning and Fine-Tuning Techniques]   \n3  [AI-Assisted Reinforcement Learning Exploration]   \n4                      [Human-like Reasoning in AI]   \n5         [ChatGPT Applications and Text Detection]   \n6            [Code Synthesis and Automated Testing]   \n7   [Enhancing Reliability and Consistency in LLMs]   \n8          [Advanced NLP Applications & Challenges]   \n\n                                 Representative_Docs  \n0  [A central notion in practical and theoretical...  \n1  [Recent studies have discovered that Chain-of-...  \n2  [We give simpler, sparser, and faster algorith...  \n3  [Recently, there has been increasing interest ...  \n4  [Abstract reasoning is a key ability for an in...  \n5  [We present the first study to investigate Lar...  \n6  [Program synthesis strives to generate a compu...  \n7  [Numerous works are proposed to improve or eva...  \n8  [Large language models (LLMs) are competitive ...  ",
      "text/html": "<div>\n<style scoped>\n    .dataframe tbody tr th:only-of-type {\n        vertical-align: middle;\n    }\n\n    .dataframe tbody tr th {\n        vertical-align: top;\n    }\n\n    .dataframe thead th {\n        text-align: right;\n    }\n</style>\n<table border=\"1\" class=\"dataframe\">\n  <thead>\n    <tr style=\"text-align: right;\">\n      <th></th>\n      <th>Topic</th>\n      <th>Count</th>\n      <th>Name</th>\n      <th>Representation</th>\n      <th>Representative_Docs</th>\n    </tr>\n  </thead>\n  <tbody>\n    <tr>\n      <th>0</th>\n      <td>-1</td>\n      <td>29</td>\n      <td>-1_Advanced AI Applications and Techniques</td>\n      <td>[Advanced AI Applications and Techniques]</td>\n      <td>[A central notion in practical and theoretical...</td>\n    </tr>\n    <tr>\n      <th>1</th>\n      <td>0</td>\n      <td>27</td>\n      <td>0_CoT in Enhancing Complex Reasoning</td>\n      <td>[CoT in Enhancing Complex Reasoning]</td>\n      <td>[Recent studies have discovered that Chain-of-...</td>\n    </tr>\n    <tr>\n      <th>2</th>\n      <td>1</td>\n      <td>26</td>\n      <td>1_Multimodal Learning and Fine-Tuning Techniques</td>\n      <td>[Multimodal Learning and Fine-Tuning Techniques]</td>\n      <td>[We give simpler, sparser, and faster algorith...</td>\n    </tr>\n    <tr>\n      <th>3</th>\n      <td>2</td>\n      <td>14</td>\n      <td>2_AI-Assisted Reinforcement Learning Exploration</td>\n      <td>[AI-Assisted Reinforcement Learning Exploration]</td>\n      <td>[Recently, there has been increasing interest ...</td>\n    </tr>\n    <tr>\n      <th>4</th>\n      <td>3</td>\n      <td>12</td>\n      <td>3_Human-like Reasoning in AI</td>\n      <td>[Human-like Reasoning in AI]</td>\n      <td>[Abstract reasoning is a key ability for an in...</td>\n    </tr>\n    <tr>\n      <th>5</th>\n      <td>4</td>\n      <td>10</td>\n      <td>4_ChatGPT Applications and Text Detection</td>\n      <td>[ChatGPT Applications and Text Detection]</td>\n      <td>[We present the first study to investigate Lar...</td>\n    </tr>\n    <tr>\n      <th>6</th>\n      <td>5</td>\n      <td>9</td>\n      <td>5_Code Synthesis and Automated Testing</td>\n      <td>[Code Synthesis and Automated Testing]</td>\n      <td>[Program synthesis strives to generate a compu...</td>\n    </tr>\n    <tr>\n      <th>7</th>\n      <td>6</td>\n      <td>8</td>\n      <td>6_Enhancing Reliability and Consistency in LLMs</td>\n      <td>[Enhancing Reliability and Consistency in LLMs]</td>\n      <td>[Numerous works are proposed to improve or eva...</td>\n    </tr>\n    <tr>\n      <th>8</th>\n      <td>7</td>\n      <td>6</td>\n      <td>7_Advanced NLP Applications &amp; Challenges</td>\n      <td>[Advanced NLP Applications &amp; Challenges]</td>\n      <td>[Large language models (LLMs) are competitive ...</td>\n    </tr>\n  </tbody>\n</table>\n</div>"
     },
     "execution_count": 344,
     "metadata": {},
     "output_type": "execute_result"
    }
   ],
   "source": [
    "## Extract topics and save on DF.\n",
    "topic_names = topic_model.get_topic_info().set_index(\"Topic\")[\"Name\"]\n",
    "topic_names[-1] = \"Miscellaneous\"\n",
    "clean_topic_names = [topic_names[t].split(\"_\")[-1].replace('\"', \"\").strip() for t in topics]\n",
    "\n",
    "papers_df['topic'] = clean_topic_names\n",
    "papers_df[\"dim1\"] = reduced_embeddings[:,0]\n",
    "papers_df[\"dim2\"] = reduced_embeddings[:,1]\n",
    "\n",
    "papers_df.to_pickle('papers_df.pkl')\n",
    "\n",
    "topic_model.get_topic_info()"
   ],
   "metadata": {
    "collapsed": false,
    "ExecuteTime": {
     "end_time": "2023-07-30T04:27:10.234049Z",
     "start_time": "2023-07-30T04:27:10.227216Z"
    }
   }
  },
  {
   "cell_type": "code",
   "execution_count": 345,
   "outputs": [
    {
     "name": "stdout",
     "output_type": "stream",
     "text": [
      "huggingface/tokenizers: The current process just got forked, after parallelism has already been used. Disabling parallelism to avoid deadlocks...\n",
      "To disable this warning, you can either:\n",
      "\t- Avoid using `tokenizers` before the fork if possible\n",
      "\t- Explicitly set the environment variable TOKENIZERS_PARALLELISM=(true | false)\n"
     ]
    }
   ],
   "source": [
    "reduced_titles = []\n",
    "for t in titles:\n",
    "    if len(t) > 50:\n",
    "        t = t[:50] + \"...\"\n",
    "    reduced_titles.append(t)\n",
    "\n",
    "plot_df = pd.DataFrame({\n",
    "    'UMAP Dim1': reduced_embeddings[:,0],\n",
    "    'UMAP Dim2': reduced_embeddings[:,1],\n",
    "    'topics': clean_topic_names,\n",
    "    'titles': reduced_titles\n",
    "})\n",
    "plot_df['topics'] = plot_df['topics'].astype(str)\n",
    "\n",
    "fig = px.scatter(plot_df, x='UMAP Dim1', y='UMAP Dim2', color='topics',\n",
    "                 opacity=0.7, hover_name='titles')\n",
    "\n",
    "# Update layout\n",
    "fig.update_layout(\n",
    "    autosize=False,\n",
    "    width=1200,\n",
    "    height=500,\n",
    "    font=dict(\n",
    "        size=16,\n",
    "    ),\n",
    "    legend=dict(\n",
    "        title=None,\n",
    "        font=dict(\n",
    "            size=14,\n",
    "        ),\n",
    "    )\n",
    ")\n",
    "fig.update_traces(marker=dict(line=dict(width=1, color='DarkSlateGrey'), size=10))"
   ],
   "metadata": {
    "collapsed": false,
    "ExecuteTime": {
     "end_time": "2023-07-30T04:27:10.506466Z",
     "start_time": "2023-07-30T04:27:10.239131Z"
    }
   }
  },
  {
   "cell_type": "markdown",
   "source": [
    "### Optional: Add arxiv links"
   ],
   "metadata": {
    "collapsed": false
   }
  },
  {
   "cell_type": "code",
   "execution_count": 346,
   "outputs": [],
   "source": [
    "import arxiv"
   ],
   "metadata": {
    "collapsed": false,
    "ExecuteTime": {
     "end_time": "2023-07-30T04:29:35.180104Z",
     "start_time": "2023-07-30T04:29:35.175795Z"
    }
   }
  },
  {
   "cell_type": "code",
   "execution_count": 349,
   "outputs": [],
   "source": [
    "## Add link from arxiv.\n",
    "def get_arxiv_link(title):\n",
    "    search = arxiv.Search(\n",
    "        query=title,\n",
    "        max_results=1,\n",
    "        sort_by=arxiv.SortCriterion.Relevance\n",
    "    )\n",
    "    res = list(search.results())\n",
    "    if len(res) > 0:\n",
    "        return res[0].entry_id\n",
    "    return None\n",
    "\n",
    "papers_df['arxiv_link'] = papers_df['Title'].apply(get_arxiv_link)"
   ],
   "metadata": {
    "collapsed": false,
    "ExecuteTime": {
     "end_time": "2023-07-30T04:33:59.366676Z",
     "start_time": "2023-07-30T04:32:07.464764Z"
    }
   }
  },
  {
   "cell_type": "code",
   "execution_count": 351,
   "outputs": [],
   "source": [
    "papers_df.to_pickle('papers_df.pkl')"
   ],
   "metadata": {
    "collapsed": false,
    "ExecuteTime": {
     "end_time": "2023-07-30T04:34:38.974242Z",
     "start_time": "2023-07-30T04:34:38.962989Z"
    }
   }
  }
 ],
 "metadata": {
  "kernelspec": {
   "display_name": "Python 3",
   "language": "python",
   "name": "python3"
  },
  "language_info": {
   "codemirror_mode": {
    "name": "ipython",
    "version": 2
   },
   "file_extension": ".py",
   "mimetype": "text/x-python",
   "name": "python",
   "nbconvert_exporter": "python",
   "pygments_lexer": "ipython2",
   "version": "2.7.6"
  }
 },
 "nbformat": 4,
 "nbformat_minor": 0
}
