{
 "cells": [
  {
   "cell_type": "code",
   "execution_count": 1,
   "outputs": [],
   "source": [
    "%load_ext autoreload\n",
    "%autoreload 2"
   ],
   "metadata": {
    "collapsed": false,
    "ExecuteTime": {
     "end_time": "2023-08-17T04:41:00.400849Z",
     "start_time": "2023-08-17T04:41:00.385141Z"
    }
   }
  },
  {
   "cell_type": "markdown",
   "source": [
    "# Summarizer"
   ],
   "metadata": {
    "collapsed": false
   }
  },
  {
   "cell_type": "code",
   "execution_count": 2,
   "outputs": [
    {
     "data": {
      "text/plain": "True"
     },
     "execution_count": 2,
     "metadata": {},
     "output_type": "execute_result"
    }
   ],
   "source": [
    "from langchain.chat_models import ChatOpenAI, AzureChatOpenAI\n",
    "from langchain.prompts import PromptTemplate\n",
    "from langchain.document_loaders import ArxivLoader\n",
    "from langchain.chains import LLMChain\n",
    "from langchain.callbacks import get_openai_callback\n",
    "import tiktoken\n",
    "\n",
    "import os\n",
    "import re\n",
    "import json\n",
    "import arxiv\n",
    "import pandas as pd\n",
    "from tqdm import tqdm\n",
    "from sklearn.feature_extraction.text import TfidfVectorizer\n",
    "from sklearn.metrics.pairwise import cosine_similarity\n",
    "\n",
    "from dotenv import load_dotenv\n",
    "\n",
    "load_dotenv()"
   ],
   "metadata": {
    "collapsed": false,
    "ExecuteTime": {
     "end_time": "2023-08-17T04:55:17.260062Z",
     "start_time": "2023-08-17T04:55:17.218557Z"
    }
   }
  },
  {
   "cell_type": "markdown",
   "source": [
    "## Helper Funcs"
   ],
   "metadata": {
    "collapsed": false
   }
  },
  {
   "cell_type": "code",
   "execution_count": 3,
   "outputs": [],
   "source": [
    "def preprocess(text):\n",
    "    \"\"\" Clean and simplify text string. \"\"\"\n",
    "    text = ''.join(c.lower() if c.isalnum() else ' ' for c in text)\n",
    "    return text\n",
    "\n",
    "def reformat_text(doc_content):\n",
    "    content = doc_content.replace('-\\n', '')\n",
    "    content = re.sub(r'(?<!\\n)\\n(?!\\n)', ' ', content)\n",
    "    content = re.sub(' +', ' ', content)\n",
    "    return content\n",
    "\n",
    "def tfidf_similarity(title1, title2):\n",
    "    \"\"\" Compute cosine similarity of TF-IDF representation between 2 strings. \"\"\"\n",
    "    title1 = preprocess(title1)\n",
    "    title2 = preprocess(title2)\n",
    "    vectorizer = TfidfVectorizer(use_idf=False, analyzer='char', ngram_range=(2,3)).fit_transform([title1, title2])\n",
    "    vectors = vectorizer.toarray()\n",
    "    return cosine_similarity(vectors[0:1], vectors[1:2])[0][0]\n",
    "\n",
    "\n",
    "def get_arxiv_info(title):\n",
    "    \"\"\" Search article in Arxiv by name and retrieve meta-data. \"\"\"\n",
    "    search = arxiv.Search(\n",
    "        query=preprocess(title),\n",
    "        max_results=20,\n",
    "        sort_by=arxiv.SortCriterion.Relevance\n",
    "    )\n",
    "    res = list(search.results())\n",
    "    if len(res) > 0:\n",
    "        ## Sort by title similarity.\n",
    "        res = sorted(res, key=lambda x: tfidf_similarity(title, x.title), reverse=True)\n",
    "        new_title = res[0].title\n",
    "        title_sim = tfidf_similarity(title, new_title)\n",
    "        if title_sim > 0.7:\n",
    "            return res[0]\n",
    "        else:\n",
    "            return None\n",
    "    return None\n"
   ],
   "metadata": {
    "collapsed": false,
    "ExecuteTime": {
     "end_time": "2023-08-17T04:48:48.727254Z",
     "start_time": "2023-08-17T04:48:48.688714Z"
    }
   }
  },
  {
   "cell_type": "markdown",
   "source": [
    "## LLM Chain Setup"
   ],
   "metadata": {
    "collapsed": false
   }
  },
  {
   "cell_type": "code",
   "execution_count": 4,
   "outputs": [],
   "source": [
    "## Underlying LLM.\n",
    "llm = AzureChatOpenAI(deployment_name=\"gpt-4-32k\", temperature=0.1)\n",
    "\n",
    "## Create prompt.\n",
    "prompt = PromptTemplate(\n",
    "    input_variables=[\"content\", \"prev_summary\"],\n",
    "    template=\"\"\"\n",
    "As an applied AI researcher specialized in the field of Large Language Models (LLMs), you are currently conducting a survey of the literature, building a catalogue of the main contributions and innovations of each paper, determining how they can be applied to build systems or create new products. This catalogue will be published by a prestigious organization and will serve as the foundation for all applied LLM knowledge going forward. Now, carefully read the following paper:\n",
    "\n",
    "{content}\n",
    "\n",
    "========================\n",
    "\n",
    "SUMMARY\n",
    "\n",
    "{prev_summary}\n",
    "\n",
    "Upon completion, answer the following questions:\n",
    "\n",
    "1. What is the `main_contribution` of this paper? (1 line headline + 8-12 sentences)\n",
    "    - If a new algorithm or technique is introduced, describe its workings clearly and comprehensively.\n",
    "    - Do not assume that the reader knows terminology not part of the common AI/ML knowledge base.\n",
    "    - Ensure that your answer provides practical insights that offer a solid understanding of the paper.\n",
    "    - Detail the benefits or advantages of what has been presented, along with the practical implications for an LLM practitioner.\n",
    "    - Do not include anything already discussed in the summary or abstract.\n",
    "\n",
    "2. What is the main `takeaway`? (1 line headline + 8-12 sentences)\n",
    "    - Focusing on the paper's contributions, explain how they can be used to create an interesting LLM application, improve current workflows, or increase efficiency when working with LLMs.\n",
    "    - If different models were evaluated and their performance recorded, please note this and its practical implications (in detailed manner, i.e.: which model is best for what).\n",
    "    - Be very precise, practical and specific as possible. Eliminate any irrelevant content from the paper's applied perspective.\n",
    "    - If possible, provide a minimal code example or at least sketch the application.\n",
    "\n",
    "3. Which category best describes this paper's primary focus? Choose one from the following options, with \"OTHER\" being the least desirable choice.\n",
    "    a. \"TRAINING\": Discussions on LLM training methods, technical stack improvements, alternative training routines, etc.\n",
    "    b. \"FINE-TUNING\": Discussions on fine-tuning, re-training, and specialization of LLMs.\n",
    "    c. \"ARCHITECTURES\": Discussions on new LLM architectures, neural network components, etc., excluding prompting or computational systems to manage LLMs.\n",
    "    d. \"PROMPTING\": Discussions on prompting methods, agent architectures, etc.\n",
    "    e. \"USE CASES\": Discussions on LLM use in specific tasks, such as summarization, question answering, stock prediction, etc.\n",
    "    f. \"BEHAVIOR\": Discussions on LLM behavior, including probing, interpretability, risks, biases, emerging abilities, etc.\n",
    "    g. \"OTHER\": None of the above.\n",
    "\n",
    "4. On a scale from 1 to 3, how novel is this paper? (1: not novel, 2: incrementally novel, 3: very novel)\n",
    "    - Compare the paper's findings and contributions with what is presented in previous and related work. How unique and significant are the findings?\n",
    "    - Be strict and rigorous; few papers should receive a high score.\n",
    "    - Pay close attention to the comparison with prior work and the degree of difference in the author's contributions.\n",
    "\n",
    "5. On a scale from 1 to 3, how technical is this paper? (1: not technical, 2: somewhat technical, 3: very technical)\n",
    "    a) A very technical paper is difficult for a non-expert to understand, requires considerable technical knowledge, is filled with equations and jargon, and demands advanced mathematical knowledge.\n",
    "    b) A somewhat technical paper may be challenging for a layman but can be understood reasonably well by someone with a computer science background. These papers, while not overly complex, explain processes in great detail and are practical and applicable (can be replicated).\n",
    "    c) A non-technical paper is understandable for anyone with a college degree. These papers often discuss generalities, and the takeaways are more conceptual than technical.\n",
    "\n",
    "6. On a scale from 1 to 3, how enjoyable is this paper? (1: hard to read, 2: ok, 3: a delight)\n",
    "    a) A very enjoyable paper is well-written, organized, presents a novel and intriguing contribution, and is easy to read.\n",
    "    b) An 'ok' paper is primarily plain and unexciting but is easy to read and contains some interesting parts. Most papers\n",
    "    c) A non-enjoyable paper is difficult to read, poorly written, and lacks meaningful, practical, and insightful content.\n",
    "\n",
    "When assigning numerical ratings consider these guidelines:\n",
    "- Rating 3/3: Only about 20% of papers reach this standard.\n",
    "- Rating 2/3: Most papers (50%) fall into this category.\n",
    "- Rating 1/3: Around 30% of papers belong to this category.\n",
    "\n",
    "Do not repeat the same comments across different answers.\n",
    "\n",
    "Use the JSON format as in the following examples to respond.\n",
    "\n",
    "EXAMPLE 1\n",
    "==========\n",
    "```\n",
    "{{\n",
    "    \"main_contribution\": {{\n",
    "        \"headline\": \"Chain-of-Thought (CoT) boosts LLM accuracy in financial sentiment analysis\",\n",
    "    \"description\": \"The paper introduces the Chain-of-Thought (CoT) prompting technique for Large Language Models (LLMs) specifically targeting financial sentiment analysis. The core of CoT lies in its deviation from direct predictions. Instead, it guides the model to build a sequence of interconnected thoughts leading to an accurate sentiment score. In a comparative study, LLMs equipped with CoT achieved a 94% accuracy, surpassing the established FinBERT's 88% and the naive prompting model's 81%.\"\n",
    "    }},\n",
    "    \"takeaways\": {{\n",
    "        \"headline\": \"CoT opens new, efficient avenues for LLMs in financial analysis\",\n",
    "        \"description\": \"Using the CoT prompting technique, LLMs can achieve enhanced accuracy in financial news sentiment analysis, ultimately refining stock market predictions. This method not only improves prediction accuracy but also renders the model's thought process transparent. When pitted against FinBERT, the LLM with CoT demonstrated superior performance, signaling its potential dominance in financial analysis tasks.\",\n",
    "        \"example\": \"When processing a news snippet like 'Company X has strong Q3 earnings', an LLM with CoT could generate: 'Strong Q3 earnings -> Likely effective management -> Expected investor trust growth -> Potential bullish market -> Possible stock price ascent.' This layered output simplifies decision-making for market analysts.\"\n",
    "    }},\n",
    "    \"category\": \"USE CASES\",\n",
    "    \"novelty_analysis\": \"The paper extends the boundaries of current research by applying LLMs to financial news sentiment analysis. The introduction of the CoT prompting technique, tailored specifically for this application, represents an incremental advancement in the field.\",\n",
    "    \"novelty_score\": 2,\n",
    "    \"technical_analysis\": \"While the paper discusses a computational framework for managing LLM inputs and outputs, it does not delve into complex mathematical theories or algorithms, making it accessible to a wider audience.\",\n",
    "    \"technical_score\": 1,\n",
    "    \"enjoyable_analysis\": \"The engaging narrative style, coupled with practical insights, makes the paper an enjoyable read. It balances technical details with easily digestible information and an interesting practical application.\",\n",
    "    \"enjoyable_score\": 3\n",
    "}}\n",
    "```\n",
    "\n",
    "EXAMPLE 2\n",
    "==========\n",
    "```\n",
    "{{\n",
    "    \"main_contribution\": {{\n",
    "        \"headline\": \"Zero-shot Prompting Technique for GPT-4 Code Interpreter\",\n",
    "        \"description\": \"This paper proposes a zero-shot prompting technique for GPT-4 Code Interpreter that explicitly encourages the use of code for self-verification, which further boosts performance on math reasoning problems. They report a positive correlation between the better performance of GPT4-Code and the higher Code Usage Frequency. Initial experiments show that GPT4-Code achieved a zero-shot accuracy of 69.7% on the MATH dataset which is an improvement of 27.5% over GPT-4’s performance (42.2%).\"\n",
    "    }},\n",
    "    \"takeaways\": {{\n",
    "        \"headline\": \"Leveraging Self-verification and Code Execution in LLMs\",\n",
    "        \"description\": \"Self-verification is already a powerful approach to enhance the performance of LLMs on many tasks but this approach leverages the evaluation of code execution which could make it interesting to solve other kinds of problems. This work highlights the importance of code understanding and generation capabilities in LLMs.\",\n",
    "        \"example\": \"Some of the ideas presented in this paper (specifically, the code-based self-verification and verification-guided weighted majority voting technique) can lead to building high-quality datasets that could potentially help improve the mathematical capabilities in open-source LLMs like Llama 2.\"\n",
    "    }},\n",
    "    \"category\": \"PROMPTING\",\n",
    "    \"novelty_analysis\": \"The research innovatively combines LLMs with code-based self-verification, achieving a 20% boost over state-of-the-art coding task accuracies. This method's practicality is evident, with tests showing a 30% reduction in coding errors, redefining efficiency in LLM-driven code generation.\",\n",
    "    \"novelty_score\": 3,\n",
    "    \"technical_analysis\": \"The paper delve into advanced algorithms, such as the Hypothetical Code-Integration Algorithm (HCIA), making it a dense read for those unfamiliar with theoretical computer science. While the introduction of a novel concept is enlightening, the paper's reliance on complex algorithms, logical proofs and symbolic reasoning makes it a technically advanced read.\",\n",
    "    \"technical_score\": 3,\n",
    "    \"enjoyable_analysis\": \"For those deeply engrossed in the LLM landscape, this paper promises an engaging journey. While its technical nuances can be challenging, the clearly presented transformative results, such as the significant performance leap in the MATH dataset, ensure a gripping narrative.\",\n",
    "    \"enjoyable_score\": 2\n",
    "}}\n",
    "```\n",
    "\n",
    "EXAMPLE 3\n",
    "==========\n",
    "```\n",
    "{{\n",
    "    \"main_contribution\": {{\n",
    "        \"headline\": \"LLMManager: LLM-Driven Database Maintenance Knowledge Acquisition\",\n",
    "        \"description\": \"LLMManager leverages a retriever system paired with a LLM to extract database maintenance knowledge from diverse textual sources. It incorporates a hybrid mechanism that combines transformer-based models with traditional relational database algorithms. The framework's ability to parse vast amounts of text and convert them into actionable database maintenance tasks has led to notable metrics: a 47% increase in real-time database issue detection and a 32% improvement in automated problem resolution compared to existing SotA systems.\"\n",
    "    }},\n",
    "    \"takeaways\": {{\n",
    "        \"headline\": \"Leveraging 'Tree of Thought' Reasoning for Enhanced Maintenance\",\n",
    "        \"description\": \"LLMManager integration of the 'tree of thought' reasoning not only enhances root cause analysis but also creates a dynamic learning environment. Over time, LLMManager ability to revert to prior steps during anomalies becomes more refined, ensuring adaptive and evolving responses to complex database issues. Furthermore, its modular design allows for seamless integration with other LLMs, magnifying the collaborative aspect of the framework.\",\n",
    "        \"example\": \"Automating database maintenance with D-Bot can lead to significant reductions in downtime and costs. Developers could design LLM systems that proactively address issues even before they escalate, unlocking more efficient and streamlined database operations.\"\n",
    "    }},\n",
    "    \"category\": \"USE CASES\",\n",
    "    \"novelty_analysis\": \"D-Bot's utilization of the 'tree of thought' reasoning in database maintenance is novel, although a targeted application inspired by similar work on other engineering areas.\",\n",
    "    \"novelty_score\": 2,\n",
    "    \"technical_analysis\": \"The paper delves into Entity-Relationship Diagrams and database management algorithms essential to LLMManagers's operations. However, it manages to remain accessible, avoiding overly complex jargon and ensuring a broader audience comprehension.\",\n",
    "    \"technical_score\": 2,\n",
    "    \"enjoyable_analysis\": \"The work provides a balanced blend of technical details and real-world applications, giving insights into LLMManager's functions and potential impacts.\",\n",
    "    \"enjoyable_score\": 2\n",
    "}}\n",
    "```\n",
    "\n",
    "EXAMPLE 4\n",
    "==========\n",
    "{{\n",
    "    \"main_contribution\": {{\n",
    "        \"headline\": \"Performance Analysis of LLMs in Entity Recognition\",\n",
    "        \"description\": \"The paper undertakes a systematic comparison of four Large Language Models (LLMs) - GPT-4, Claude, GPT-3.5, and Prodisol-001 - with a focus on entity recognition. Each model was subjected to a consistent dataset, and their entity extraction capabilities were assessed based on precision, recall, and F1 score. Results highlighted that GPT-4 outperformed the other models, with Claude closely following, and GPT-3.5 and Prodisol-001 trailing behind. This comparative study offers insights into the current capabilities of prominent LLMs in the domain of entity recognition.\"\n",
    "    }},\n",
    "    \"takeaways\": {{\n",
    "        \"headline\": \"Entity Recognition Capabilities Vary Across LLMs\",\n",
    "        \"description\": \"The paper underscores variations in the performance of different LLMs when tasked with entity recognition. The presented findings provide a benchmark for professionals and researchers aiming to choose an LLM for entity recognition tasks. The nuanced comparison suggests that while GPT-4 exhibits top-tier performance in this domain, other models like Claude also present strong capabilities.\",\n",
    "        \"example\": \"When parsing a complex news article about the merger between two tech giants, it becomes crucial to accurately recognize and categorize entities such as company names, CEOs, financial figures, and locations. An LLM with superior entity recognition, in such a context, aids in extracting critical data points efficiently, enabling a more thorough analysis of the situation.\"\n",
    "    }},\n",
    "    \"category\": \"USE CASES\",\n",
    "    \"novelty_analysis\": \"The study contributes to existing literature by offering a contemporary comparison of the latest LLMs in entity recognition. While the task itself isn't novel, the inclusion of GPT-4 and Claude in the comparison introduces an incremental advancement to the current body of research.\",\n",
    "    \"novelty_score\": 2,\n",
    "    \"technical_analysis\": \"The paper balances technical depth with accessibility, providing a detailed outline of evaluation metrics and methodologies. This ensures insights are communicated comprehensively, catering to both technical and non-technical readers.\",\n",
    "    \"technical_score\": 2,\n",
    "    \"enjoyable_analysis\": \"Through its well-structured approach and clear visualizations, the paper facilitates an engaging read. The methodical presentation of results aids in drawing comparisons and understanding the landscape of LLMs in entity recognition.\",\n",
    "    \"enjoyable_score\": 2\n",
    "}}\n",
    "```\n",
    "\n",
    "YOUR TURN\n",
    "==========\n",
    "\"\"\"\n",
    ")\n",
    "chain = LLMChain(llm=llm, prompt=prompt)"
   ],
   "metadata": {
    "collapsed": false,
    "ExecuteTime": {
     "end_time": "2023-08-17T04:41:05.111544Z",
     "start_time": "2023-08-17T04:41:05.074284Z"
    }
   }
  },
  {
   "cell_type": "markdown",
   "source": [
    "## Iterate Papers"
   ],
   "metadata": {
    "collapsed": false
   }
  },
  {
   "cell_type": "code",
   "execution_count": 5,
   "outputs": [
    {
     "name": "stdout",
     "output_type": "stream",
     "text": [
      "3\n"
     ]
    }
   ],
   "source": [
    "paper_names = [\n",
    "    # \"One Wide Feedforward is All You Need\",\n",
    "    # \"ModelScope-Agent: Building Your Customizable Agent System with Open-source Large Language Models\",\n",
    "    # \"Efficient RLHF: Reducing the Memory Usage of PPO\",\n",
    "    # \"Large Content And Behavior Models To Understand, Simulate, And Optimize Content And Behavior\",\n",
    "    # \"Point-Bind & Point-LLM: Aligning Point Cloud with Multi-modality for 3D Understanding, Generation, and Instruction Following\",\n",
    "    # \"Can Programming Languages Boost Each Other via Instruction Tuning?\",\n",
    "    # \"The Belebele Benchmark: a Parallel Reading Comprehension Dataset in 122 Language Variants\",\n",
    "    # \"BioCoder: A Benchmark for Bioinformatics Code Generation with Contextual Pragmatic Knowledge\",\n",
    "    # \"LM-Infinite: Simple On-the-Fly Length Generalization for Large Language Models\",\n",
    "    # \"LLaSM: Large Language and Speech Model\",\n",
    "    # \"Jais and Jais-chat: Arabic-Centric Foundation and Instruction-Tuned Open Generative Large Language Models\",\n",
    "    # \"MedAlign: A Clinician-Generated Dataset for Instruction Following with Electronic Medical Records\",\n",
    "    # \"OmniQuant: Omnidirectionally Calibrated Quantization for Large Language Models\",\n",
    "    # \"SoTaNa: The Open-Source Software Development Assistant\",\n",
    "    # \"Teach LLMs to Personalize -- An Approach inspired by Writing Education\",\n",
    "    # \"AnomalyGPT: Detecting Industrial Anomalies using Large Vision-Language Models\",\n",
    "    # \"FacTool: Factuality Detection in Generative AI -- A Tool Augmented Framework for Multi-Task and Multi-Domain Scenarios\",\n",
    "    # \"Graph of Thoughts: Solving Elaborate Problems with Large Language Models\",\n",
    "    # \"LLaSM: Large Language and Speech Model\",\n",
    "    # \"Switch Transformers: Scaling to Trillion Parameter Models with Simple and Efficient Sparsity\",\n",
    "    # \"GPT Can Solve Mathematical Problems Without a Calculator\",\n",
    "    # \"Large Language Models as Optimizers\",\n",
    "    # \"DoLa: Decoding by Contrasting Layers Improves Factuality in Large Language Models\",\n",
    "    # \"FLM-101B: An Open LLM and How to Train It with $100K Budget\",\n",
    "    # \"XGen-7B Technical Report\",\n",
    "    \"Plan-and-Solve Prompting: Improving Zero-Shot Chain-of-Thought Reasoning by Large Language Models\",\n",
    "    \"Physically Grounded Vision-Language Models for Robotic Manipulation\",\n",
    "    \"Scaling Autoregressive Multi-Modal Models: Pretraining and Instruction Tuning\",\n",
    "    # \"Scaling Clinical Trial Matching Using Large Language Models: A Case Study in Oncology\",\n",
    "    # \"Gated recurrent neural networks discover attention\",\n",
    "    # \"Topic Discovery via Latent Space Clustering of Pretrained Language Model Representations\",\n",
    "    # \"Improving Language Models with Advantage-based Offline Policy Gradients\",\n",
    "    # \"DrugChat: Towards Enabling ChatGPT-Like Capabilities on Drug Molecule Graphs\",\n",
    "    # \"Large-Scale Automatic Audiobook Creation\",\n",
    "    # \"Mobile V-MoEs: Scaling Down Vision Transformers via Sparse Mixture-of-Experts\",\n",
    "    # \"From Sparse to Dense: GPT-4 Summarization with Chain of Density Prompting\",\n",
    "    # \"GPT Can Solve Mathematical Problems Without a Calculator\",\n",
    "    # \"When Less is More: Investigating Data Pruning for Pretraining LLMs at Scale\",\n",
    "    # \"NExT-GPT: Any-to-Any Multimodal LLM\",\n",
    "    # \"Optimize Weight Rounding via Signed Gradient Descent for the Quantization of LLMs\",\n",
    "    # \"Textbooks Are All You Need II: phi-1.5 technical report\",\n",
    "    # \"Neurons in Large Language Models: Dead, N-gram, Positional\",\n",
    "    # \"FIAT: Fusing learning paradigms with Instruction-Accelerated Tuning\",\n",
    "    # \"MADLAD-400: A Multilingual And Document-Level Large Audited Dataset\",\n",
    "    # \"Hypothesis Search: Inductive Reasoning with Language Models\",\n",
    "    # \"ANALYZING TRANSFORMER DYNAMICS AS MOVEMENT THROUGH EMBEDDING SPACE\",\n",
    "    # \"From Sparse to Dense: GPT-4 Summarization with Chain of Density Prompting\",\n",
    "    # \"What In-Context Learning Learns In-Context: Disentangling Task Recognition and Task Learning\",\n",
    "    # \"A Latent Space Theory for Emergent Abilities in Large Language Models\"\n",
    "]\n",
    "\n",
    "print(len(paper_names))\n",
    "failed_papers = []\n",
    "existing_papers = [\"XXXX\"]"
   ],
   "metadata": {
    "collapsed": false,
    "ExecuteTime": {
     "end_time": "2023-08-17T04:41:06.404300Z",
     "start_time": "2023-08-17T04:41:06.382398Z"
    }
   }
  },
  {
   "cell_type": "code",
   "execution_count": 6,
   "outputs": [
    {
     "name": "stderr",
     "output_type": "stream",
     "text": [
      " 33%|███▎      | 1/3 [00:09<00:18,  9.21s/it]"
     ]
    },
    {
     "name": "stdout",
     "output_type": "stream",
     "text": [
      "Found locally: Plan-and-Solve Prompting: Improving Zero-Shot Chain-of-Thought Reasoning by Large Language Models:\n",
      "Processing: Physically Grounded Vision-Language Models for Robotic Manipulation\n"
     ]
    },
    {
     "name": "stderr",
     "output_type": "stream",
     "text": [
      " 67%|██████▋   | 2/3 [03:27<02:00, 120.51s/it]"
     ]
    },
    {
     "name": "stdout",
     "output_type": "stream",
     "text": [
      "Processing: Scaling Autoregressive Multi-Modal Models: Pretraining and Instruction Tuning\n"
     ]
    },
    {
     "name": "stderr",
     "output_type": "stream",
     "text": [
      "100%|██████████| 3/3 [06:28<00:00, 129.52s/it]\n"
     ]
    }
   ],
   "source": [
    "with get_openai_callback() as cb:\n",
    "    for paper_name in tqdm(paper_names):\n",
    "        ## Get paper.\n",
    "        pre_similarity = max([tfidf_similarity(paper_name, t) for t in existing_papers])\n",
    "        if pre_similarity > 0.9:\n",
    "            continue\n",
    "            # pass\n",
    "\n",
    "        ## Load by the force.\n",
    "        try:\n",
    "            docs = ArxivLoader(query=preprocess(paper_name), load_max_docs=1).load()\n",
    "        except:\n",
    "            try:\n",
    "                docs = ArxivLoader(query=preprocess(paper_name), load_max_docs=3).load()\n",
    "            except:\n",
    "                docs = ArxivLoader(query=preprocess(paper_name), load_max_docs=1).load()\n",
    "\n",
    "        if len(docs) == 0:\n",
    "            print(f\"Could not find {paper_name}.\")\n",
    "            failed_papers.append(paper_name)\n",
    "            continue\n",
    "        try:\n",
    "            docs = sorted(docs, key=lambda x: tfidf_similarity(paper_name, x.metadata[\"Title\"]), reverse=True)\n",
    "            new_title = docs[0].metadata[\"Title\"]\n",
    "            title_sim = tfidf_similarity(paper_name, new_title)\n",
    "            if title_sim < 0.7:\n",
    "                print(f\"No similar title name found for {paper_name}.\")\n",
    "                continue\n",
    "            doc_meta = docs[0].metadata\n",
    "            doc_content = docs[0].page_content\n",
    "            doc_content = reformat_text(doc_content)\n",
    "            first_author = doc_meta[\"Authors\"].split(\" \")[0]\n",
    "            published = pd.to_datetime(doc_meta[\"Published\"]).strftime(\"%Y_%m_%d\")\n",
    "            prev_summary = doc_meta[\"Summary\"].replace(\"\\n\", \" \")\n",
    "\n",
    "            ## Name serially.\n",
    "            base_name = f\"{published}_{first_author.lower()}\"\n",
    "            i = 1\n",
    "            if os.path.exists(f\"../papers/{base_name}_{str(i).zfill(3)}.json\"):\n",
    "                print(f\"Found locally: {paper_name}:\")\n",
    "                # print(f\"Reworking: {paper_name}.\")\n",
    "                continue\n",
    "            else:\n",
    "                print(f\"Processing: {paper_name}\")\n",
    "\n",
    "            ## Run model.\n",
    "            summary = chain.run({'content': doc_content, \"prev_summary\": prev_summary})\n",
    "\n",
    "            ## Extract and combine results.\n",
    "            parsed_summary = summary.replace(\"```\", \"\").strip()\n",
    "            parsed_summary = json.loads(parsed_summary)\n",
    "\n",
    "            result_dict = {**doc_meta, **parsed_summary}\n",
    "            result_dict[\"Summary\"] = prev_summary\n",
    "\n",
    "            ## Store.\n",
    "            with open(f\"../papers/{base_name}_{str(i).zfill(3)}.json\", 'w') as f:\n",
    "                json.dump(result_dict, f)\n",
    "\n",
    "        except Exception as e:\n",
    "            print(f\"Failed on {paper_name}:\")\n",
    "            print(e)\n",
    "            failed_papers.append(paper_name)\n",
    "            continue"
   ],
   "metadata": {
    "collapsed": false,
    "ExecuteTime": {
     "end_time": "2023-08-17T04:41:39.452369Z",
     "start_time": "2023-08-17T04:41:07.868140Z"
    }
   }
  },
  {
   "cell_type": "code",
   "execution_count": null,
   "outputs": [],
   "source": [],
   "metadata": {
    "collapsed": false,
    "pycharm": {
     "is_executing": true
    }
   }
  },
  {
   "cell_type": "code",
   "execution_count": null,
   "outputs": [],
   "source": [],
   "metadata": {
    "collapsed": false
   }
  }
 ],
 "metadata": {
  "kernelspec": {
   "display_name": "langchain",
   "language": "python",
   "name": "python3"
  },
  "language_info": {
   "codemirror_mode": {
    "name": "ipython",
    "version": 3
   },
   "file_extension": ".py",
   "mimetype": "text/x-python",
   "name": "python",
   "nbconvert_exporter": "python",
   "pygments_lexer": "ipython3",
   "version": "3.11.3"
  },
  "orig_nbformat": 4
 },
 "nbformat": 4,
 "nbformat_minor": 2
}
